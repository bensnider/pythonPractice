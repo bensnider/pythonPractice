{
 "cells": [
  {
   "cell_type": "markdown",
   "id": "b6880a9b",
   "metadata": {},
   "source": [
    "via *https://app.programiz.pro/community-challenges/challenge/remove-repeated-letters/info*"
   ]
  },
  {
   "cell_type": "markdown",
   "id": "3d319ba7",
   "metadata": {},
   "source": [
    "Write a function to remove letters from a given string.\n",
    "\n",
    "For this input ```'hello world'``` the result would be ```'helo wrd'``` because the function removes all repeated characters, the 'l' and 'o' from the input string"
   ]
  },
  {
   "cell_type": "code",
   "execution_count": 1,
   "id": "c91aea6d",
   "metadata": {},
   "outputs": [],
   "source": [
    "def remove_repeated_letters(s):\n",
    "    blank_set = set()\n",
    "    blank_str = \"\"\n",
    "    for char in s:\n",
    "        if char not in blank_set:\n",
    "            blank_set.add(char)\n",
    "            blank_str += char\n",
    "    return blank_str"
   ]
  },
  {
   "cell_type": "markdown",
   "id": "4246e546",
   "metadata": {},
   "source": [
    "*Test cases:*"
   ]
  },
  {
   "cell_type": "code",
   "execution_count": 2,
   "id": "882b54a6",
   "metadata": {},
   "outputs": [
    {
     "data": {
      "text/plain": [
       "'this ae'"
      ]
     },
     "execution_count": 2,
     "metadata": {},
     "output_type": "execute_result"
    }
   ],
   "source": [
    "remove_repeated_letters('this is a test')"
   ]
  },
  {
   "cell_type": "code",
   "execution_count": 4,
   "id": "13784192",
   "metadata": {},
   "outputs": [
    {
     "data": {
      "text/plain": [
       "'remov duplicats'"
      ]
     },
     "execution_count": 4,
     "metadata": {},
     "output_type": "execute_result"
    }
   ],
   "source": [
    "remove_repeated_letters('remove duplicates')"
   ]
  },
  {
   "cell_type": "code",
   "execution_count": 5,
   "id": "9ef99394",
   "metadata": {},
   "outputs": [
    {
     "data": {
      "text/plain": [
       "'nymph'"
      ]
     },
     "execution_count": 5,
     "metadata": {},
     "output_type": "execute_result"
    }
   ],
   "source": [
    "remove_repeated_letters('nymph')"
   ]
  },
  {
   "cell_type": "code",
   "execution_count": 3,
   "id": "b2d0dd73",
   "metadata": {},
   "outputs": [
    {
     "data": {
      "text/plain": [
       "'helo wrd'"
      ]
     },
     "execution_count": 3,
     "metadata": {},
     "output_type": "execute_result"
    }
   ],
   "source": [
    "remove_repeated_letters('hello world')"
   ]
  },
  {
   "cell_type": "markdown",
   "id": "7ea791d8",
   "metadata": {},
   "source": [
    "*More elegant online solution found afterwards:*"
   ]
  },
  {
   "cell_type": "code",
   "execution_count": null,
   "id": "78517bb1",
   "metadata": {},
   "outputs": [],
   "source": [
    "def remove_repeated_letters(s):\n",
    "    a = ''\n",
    "    for i in s:\n",
    "        if i not in a:\n",
    "            a+=i\n",
    "    return a"
   ]
  }
 ],
 "metadata": {
  "kernelspec": {
   "display_name": "Python 3 (ipykernel)",
   "language": "python",
   "name": "python3"
  },
  "language_info": {
   "codemirror_mode": {
    "name": "ipython",
    "version": 3
   },
   "file_extension": ".py",
   "mimetype": "text/x-python",
   "name": "python",
   "nbconvert_exporter": "python",
   "pygments_lexer": "ipython3",
   "version": "3.11.4"
  }
 },
 "nbformat": 4,
 "nbformat_minor": 5
}
