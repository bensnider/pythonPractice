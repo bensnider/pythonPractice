{
 "cells": [
  {
   "cell_type": "markdown",
   "id": "b60624d2",
   "metadata": {},
   "source": [
    "Define a function that takes a lsit of integers (representing cards) and an integer X as inputs.\n",
    "\n",
    "Inside the function, count the frequency of each card and check if all frequences are equal to X.\n",
    "\n",
    "Return True if each card has exactly X copies, otherwise return False.\n"
   ]
  },
  {
   "cell_type": "markdown",
   "id": "fd280ae6",
   "metadata": {},
   "source": [
    "For this input:\n",
    "```[1, 2, 3, 1, 2, 3]```\n",
    "```2```"
   ]
  },
  {
   "cell_type": "markdown",
   "id": "c338d3f9",
   "metadata": {},
   "source": [
    "The result should be: ```True```"
   ]
  },
  {
   "cell_type": "markdown",
   "id": "70abcf75",
   "metadata": {},
   "source": [
    "Because each card (1, 2, and 3) appears exactly twice in the deck."
   ]
  },
  {
   "cell_type": "code",
   "execution_count": 16,
   "id": "0497481a",
   "metadata": {},
   "outputs": [],
   "source": [
    "def is_x_of_a_kind(deck, x):\n",
    "    for card in deck:   #loop through each card in the deck\n",
    "        if deck.count(card) != x:    #use in-built python count function to see how many times each card occurs and compare it to X\n",
    "            return False   #return False if a card doesn't occur X number of times\n",
    "    return True    #otherwise return True"
   ]
  },
  {
   "cell_type": "markdown",
   "id": "eee5ac29",
   "metadata": {},
   "source": [
    "*Test Cases:*"
   ]
  },
  {
   "cell_type": "code",
   "execution_count": 12,
   "id": "9b95b866",
   "metadata": {},
   "outputs": [
    {
     "data": {
      "text/plain": [
       "True"
      ]
     },
     "execution_count": 12,
     "metadata": {},
     "output_type": "execute_result"
    }
   ],
   "source": [
    "is_x_of_a_kind([4, 4, 5, 5], 2)"
   ]
  },
  {
   "cell_type": "code",
   "execution_count": 13,
   "id": "bc940268",
   "metadata": {},
   "outputs": [
    {
     "data": {
      "text/plain": [
       "True"
      ]
     },
     "execution_count": 13,
     "metadata": {},
     "output_type": "execute_result"
    }
   ],
   "source": [
    "is_x_of_a_kind([6, 7, 8], 1)"
   ]
  },
  {
   "cell_type": "code",
   "execution_count": 14,
   "id": "ebfa669c",
   "metadata": {},
   "outputs": [
    {
     "data": {
      "text/plain": [
       "False"
      ]
     },
     "execution_count": 14,
     "metadata": {},
     "output_type": "execute_result"
    }
   ],
   "source": [
    "is_x_of_a_kind([9, 9, 10], 2)"
   ]
  },
  {
   "cell_type": "code",
   "execution_count": 15,
   "id": "1736179f",
   "metadata": {},
   "outputs": [
    {
     "data": {
      "text/plain": [
       "True"
      ]
     },
     "execution_count": 15,
     "metadata": {},
     "output_type": "execute_result"
    }
   ],
   "source": [
    "is_x_of_a_kind([1, 2, 3, 1, 2, 3], 2)"
   ]
  }
 ],
 "metadata": {
  "kernelspec": {
   "display_name": "Python 3 (ipykernel)",
   "language": "python",
   "name": "python3"
  },
  "language_info": {
   "codemirror_mode": {
    "name": "ipython",
    "version": 3
   },
   "file_extension": ".py",
   "mimetype": "text/x-python",
   "name": "python",
   "nbconvert_exporter": "python",
   "pygments_lexer": "ipython3",
   "version": "3.11.4"
  }
 },
 "nbformat": 4,
 "nbformat_minor": 5
}
