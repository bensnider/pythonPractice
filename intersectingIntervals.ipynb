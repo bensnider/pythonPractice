{
 "cells": [
  {
   "cell_type": "markdown",
   "id": "6c2d99fd",
   "metadata": {},
   "source": [
    "Write a function to find the intersection of two intervals."
   ]
  },
  {
   "cell_type": "markdown",
   "id": "4117caa5",
   "metadata": {},
   "source": [
    "For this input: ```[1, 5]\n",
    "[3, 7]```"
   ]
  },
  {
   "cell_type": "markdown",
   "id": "1c122b3c",
   "metadata": {},
   "source": [
    "The result should be: ```[3, 5]```"
   ]
  },
  {
   "cell_type": "markdown",
   "id": "b3cfaadb",
   "metadata": {},
   "source": [
    "Because [3, 4, 5] is the intersection shared by both [1, 2, 3, 4, 5] and [3, 4, 5, 6, 7]"
   ]
  },
  {
   "cell_type": "code",
   "execution_count": 50,
   "id": "faa39c87",
   "metadata": {},
   "outputs": [],
   "source": [
    "def intersect_intervals(interval1, interval2):\n",
    "    intersect = []\n",
    "    range1 = range(interval1[0], interval1[1]+1)\n",
    "    range2 = range(interval2[0], interval2[1]+1)\n",
    "    for value in range1:\n",
    "        if value in range2:\n",
    "            intersect.append(value)\n",
    "    if len(intersect) < 2:\n",
    "        return []\n",
    "    else:\n",
    "        intersect_interval = [intersect[0], intersect[-1]]\n",
    "        return intersect_interval"
   ]
  },
  {
   "cell_type": "markdown",
   "id": "eaa1721e",
   "metadata": {},
   "source": [
    "*Test Cases:*"
   ]
  },
  {
   "cell_type": "code",
   "execution_count": 52,
   "id": "aa48a063",
   "metadata": {},
   "outputs": [
    {
     "data": {
      "text/plain": [
       "[4, 6]"
      ]
     },
     "execution_count": 52,
     "metadata": {},
     "output_type": "execute_result"
    }
   ],
   "source": [
    "intersect_intervals([2, 6], [4,8])"
   ]
  },
  {
   "cell_type": "code",
   "execution_count": 51,
   "id": "84b8ece0",
   "metadata": {},
   "outputs": [
    {
     "data": {
      "text/plain": [
       "[]"
      ]
     },
     "execution_count": 51,
     "metadata": {},
     "output_type": "execute_result"
    }
   ],
   "source": [
    "intersect_intervals([0, 2], [3,5])"
   ]
  },
  {
   "cell_type": "code",
   "execution_count": 53,
   "id": "786cbb39",
   "metadata": {},
   "outputs": [
    {
     "data": {
      "text/plain": [
       "[-1, 0]"
      ]
     },
     "execution_count": 53,
     "metadata": {},
     "output_type": "execute_result"
    }
   ],
   "source": [
    "intersect_intervals([-1, 1], [-2,0])"
   ]
  },
  {
   "cell_type": "code",
   "execution_count": 54,
   "id": "4f1ac493",
   "metadata": {},
   "outputs": [
    {
     "data": {
      "text/plain": [
       "[3, 5]"
      ]
     },
     "execution_count": 54,
     "metadata": {},
     "output_type": "execute_result"
    }
   ],
   "source": [
    "intersect_intervals([1, 5], [3,7])"
   ]
  }
 ],
 "metadata": {
  "kernelspec": {
   "display_name": "Python 3 (ipykernel)",
   "language": "python",
   "name": "python3"
  },
  "language_info": {
   "codemirror_mode": {
    "name": "ipython",
    "version": 3
   },
   "file_extension": ".py",
   "mimetype": "text/x-python",
   "name": "python",
   "nbconvert_exporter": "python",
   "pygments_lexer": "ipython3",
   "version": "3.11.4"
  }
 },
 "nbformat": 4,
 "nbformat_minor": 5
}
