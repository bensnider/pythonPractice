{
 "cells": [
  {
   "cell_type": "markdown",
   "id": "e9964a3a",
   "metadata": {},
   "source": [
    "Write a function to find if there exists a sublist in the given list with sum equal to K.\n",
    "\n",
    "1. Define a function that takes a list of integers and an integer ``K`` as inputs.\n",
    "2. Inside the function, iterate over the list and for each element, calculate the sum of sublists. If any sum equals ``K``, return True.\n",
    "3. Return True if such a sublist exists, otherwise return False.\n",
    "\n",
    "For this input:\n",
    "\n",
    "``[1, 2, 3]``\n",
    "\n",
    "``5``\n",
    "\n",
    "the result should be:\n",
    "\n",
    "``True``\n",
    "\n",
    "Reason: The sublist [2, 3] has a sum equal to 5. Therefore, the function returns True."
   ]
  },
  {
   "cell_type": "code",
   "execution_count": 24,
   "id": "bb70967d",
   "metadata": {},
   "outputs": [],
   "source": [
    "def sublist_sum_equals_k(nums, k):\n",
    "    for num in nums:\n",
    "        sublist = nums[nums.index(num):]\n",
    "        if sum(sublist) == k:\n",
    "            return True\n",
    "    return False"
   ]
  },
  {
   "cell_type": "markdown",
   "id": "69dd1f8f",
   "metadata": {},
   "source": [
    "*Test Cases:*"
   ]
  },
  {
   "cell_type": "code",
   "execution_count": 19,
   "id": "6e22f095",
   "metadata": {},
   "outputs": [
    {
     "data": {
      "text/plain": [
       "True"
      ]
     },
     "execution_count": 19,
     "metadata": {},
     "output_type": "execute_result"
    }
   ],
   "source": [
    "sublist_sum_equals_k([4,5,6], 15)"
   ]
  },
  {
   "cell_type": "code",
   "execution_count": 26,
   "id": "519aa59d",
   "metadata": {},
   "outputs": [
    {
     "data": {
      "text/plain": [
       "False"
      ]
     },
     "execution_count": 26,
     "metadata": {},
     "output_type": "execute_result"
    }
   ],
   "source": [
    "sublist_sum_equals_k([7,8,9], 10)"
   ]
  },
  {
   "cell_type": "code",
   "execution_count": 27,
   "id": "3fb7d487",
   "metadata": {},
   "outputs": [
    {
     "data": {
      "text/plain": [
       "True"
      ]
     },
     "execution_count": 27,
     "metadata": {},
     "output_type": "execute_result"
    }
   ],
   "source": [
    "sublist_sum_equals_k([10,20,30], 60)"
   ]
  },
  {
   "cell_type": "code",
   "execution_count": 28,
   "id": "7fda9536",
   "metadata": {},
   "outputs": [
    {
     "data": {
      "text/plain": [
       "True"
      ]
     },
     "execution_count": 28,
     "metadata": {},
     "output_type": "execute_result"
    }
   ],
   "source": [
    "sublist_sum_equals_k([1,2,3], 5)"
   ]
  }
 ],
 "metadata": {
  "kernelspec": {
   "display_name": "Python 3 (ipykernel)",
   "language": "python",
   "name": "python3"
  },
  "language_info": {
   "codemirror_mode": {
    "name": "ipython",
    "version": 3
   },
   "file_extension": ".py",
   "mimetype": "text/x-python",
   "name": "python",
   "nbconvert_exporter": "python",
   "pygments_lexer": "ipython3",
   "version": "3.11.4"
  }
 },
 "nbformat": 4,
 "nbformat_minor": 5
}
