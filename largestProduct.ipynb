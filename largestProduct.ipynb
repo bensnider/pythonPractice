{
 "cells": [
  {
   "cell_type": "markdown",
   "id": "eb3706c2",
   "metadata": {},
   "source": [
    "Write a function to find the product of the two largest numbers in a list."
   ]
  },
  {
   "cell_type": "markdown",
   "id": "8c06cb9a",
   "metadata": {},
   "source": [
    "For this input: ```[1, 2, 3, 4, 5]```"
   ]
  },
  {
   "cell_type": "markdown",
   "id": "d9d5cb99",
   "metadata": {},
   "source": [
    "The result should be: ```20```"
   ]
  },
  {
   "cell_type": "markdown",
   "id": "8a6065f6",
   "metadata": {},
   "source": [
    "Because the two largest numbers in the lsit are 5 and 4. Their product is 20."
   ]
  },
  {
   "cell_type": "code",
   "execution_count": 23,
   "id": "4db082b1",
   "metadata": {},
   "outputs": [],
   "source": [
    "def product_of_largest(numbers):\n",
    "    numbers.sort(reverse=True)   #sort the numbers in reverse order (largest first)\n",
    "    return numbers[0] * numbers[1]    #multiply the first number (first largest) in the sorted list by the second (second largest)"
   ]
  },
  {
   "cell_type": "markdown",
   "id": "b66ff9d0",
   "metadata": {},
   "source": [
    "*Test Cases:*"
   ]
  },
  {
   "cell_type": "code",
   "execution_count": 19,
   "id": "64dc78c9",
   "metadata": {},
   "outputs": [
    {
     "data": {
      "text/plain": [
       "56"
      ]
     },
     "execution_count": 19,
     "metadata": {},
     "output_type": "execute_result"
    }
   ],
   "source": [
    "product_of_largest([6, 8, 7])"
   ]
  },
  {
   "cell_type": "code",
   "execution_count": 20,
   "id": "a986df9a",
   "metadata": {},
   "outputs": [
    {
     "data": {
      "text/plain": [
       "-400"
      ]
     },
     "execution_count": 20,
     "metadata": {},
     "output_type": "execute_result"
    }
   ],
   "source": [
    "product_of_largest([-10, -20, -30, 40])"
   ]
  },
  {
   "cell_type": "code",
   "execution_count": 21,
   "id": "46fa42dd",
   "metadata": {},
   "outputs": [
    {
     "data": {
      "text/plain": [
       "1344"
      ]
     },
     "execution_count": 21,
     "metadata": {},
     "output_type": "execute_result"
    }
   ],
   "source": [
    "product_of_largest([11, 2, 42, 32])"
   ]
  },
  {
   "cell_type": "code",
   "execution_count": 22,
   "id": "2a6c8f9a",
   "metadata": {},
   "outputs": [
    {
     "data": {
      "text/plain": [
       "20"
      ]
     },
     "execution_count": 22,
     "metadata": {},
     "output_type": "execute_result"
    }
   ],
   "source": [
    "product_of_largest([1, 2, 3, 4, 5])"
   ]
  }
 ],
 "metadata": {
  "kernelspec": {
   "display_name": "Python 3 (ipykernel)",
   "language": "python",
   "name": "python3"
  },
  "language_info": {
   "codemirror_mode": {
    "name": "ipython",
    "version": 3
   },
   "file_extension": ".py",
   "mimetype": "text/x-python",
   "name": "python",
   "nbconvert_exporter": "python",
   "pygments_lexer": "ipython3",
   "version": "3.11.4"
  }
 },
 "nbformat": 4,
 "nbformat_minor": 5
}
