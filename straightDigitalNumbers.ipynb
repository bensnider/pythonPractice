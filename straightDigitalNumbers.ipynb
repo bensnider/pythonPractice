{
 "cells": [
  {
   "cell_type": "markdown",
   "id": "8819f1d3",
   "metadata": {},
   "source": [
    "via *https://app.programiz.pro/community-challenges/challenge/straight-digital-numbers/info*"
   ]
  },
  {
   "cell_type": "markdown",
   "id": "84d572aa",
   "metadata": {},
   "source": [
    "A **straight digital** number is one where the difference between two consecutive digits is constant.\n",
    "\n",
    "Write a function that determines if a number is a straight digital or not.\n",
    "\n",
    "For input ```12345``` the result should be ```True``` because the difference between each pair of consecutive digits in 12345 is 1, so it's a straight digital number."
   ]
  },
  {
   "cell_type": "code",
   "execution_count": 1,
   "id": "074d0780",
   "metadata": {},
   "outputs": [],
   "source": [
    "def is_straight_digital(n):\n",
    "    digits = [int(d) for d in str(n)]   #convert argument n into list of integers via list comprehension\n",
    "    dif = digits[1] - digits[0]   #calculate difference between 1st and second digit to use as reference point\n",
    "    for num in range(1, len(digits)):   #loop through remaining digits in list\n",
    "        dif_test = digits[num] - digits[num-1]   #calculate difference between current and previous digit in the loop\n",
    "        if dif != dif_test:  #compare the values of the calculated differences, if they are the same do nothing\n",
    "            return False   #if the differences have different values, end the function as False, otherwise return True\n",
    "    return True"
   ]
  },
  {
   "cell_type": "markdown",
   "id": "4f443dd0",
   "metadata": {},
   "source": [
    "*Test Cases:*"
   ]
  },
  {
   "cell_type": "code",
   "execution_count": 2,
   "id": "424d61ae",
   "metadata": {
    "scrolled": false
   },
   "outputs": [
    {
     "data": {
      "text/plain": [
       "True"
      ]
     },
     "execution_count": 2,
     "metadata": {},
     "output_type": "execute_result"
    }
   ],
   "source": [
    "is_straight_digital(13579)"
   ]
  },
  {
   "cell_type": "code",
   "execution_count": 3,
   "id": "8d965bc6",
   "metadata": {},
   "outputs": [
    {
     "data": {
      "text/plain": [
       "False"
      ]
     },
     "execution_count": 3,
     "metadata": {},
     "output_type": "execute_result"
    }
   ],
   "source": [
    "is_straight_digital(24680)"
   ]
  },
  {
   "cell_type": "code",
   "execution_count": 4,
   "id": "083d4574",
   "metadata": {},
   "outputs": [
    {
     "data": {
      "text/plain": [
       "False"
      ]
     },
     "execution_count": 4,
     "metadata": {},
     "output_type": "execute_result"
    }
   ],
   "source": [
    "is_straight_digital(1324)"
   ]
  },
  {
   "cell_type": "code",
   "execution_count": 5,
   "id": "9574b34a",
   "metadata": {},
   "outputs": [
    {
     "data": {
      "text/plain": [
       "True"
      ]
     },
     "execution_count": 5,
     "metadata": {},
     "output_type": "execute_result"
    }
   ],
   "source": [
    "is_straight_digital(12345)"
   ]
  }
 ],
 "metadata": {
  "kernelspec": {
   "display_name": "Python 3 (ipykernel)",
   "language": "python",
   "name": "python3"
  },
  "language_info": {
   "codemirror_mode": {
    "name": "ipython",
    "version": 3
   },
   "file_extension": ".py",
   "mimetype": "text/x-python",
   "name": "python",
   "nbconvert_exporter": "python",
   "pygments_lexer": "ipython3",
   "version": "3.11.4"
  }
 },
 "nbformat": 4,
 "nbformat_minor": 5
}
